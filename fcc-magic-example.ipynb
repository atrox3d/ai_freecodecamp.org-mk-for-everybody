{
 "cells": [
  {
   "cell_type": "markdown",
   "id": "93512071",
   "metadata": {},
   "source": [
    "# ML for everyone"
   ]
  },
  {
   "cell_type": "markdown",
   "id": "e3f1a4a6",
   "metadata": {},
   "source": [
    "# imports and options"
   ]
  },
  {
   "cell_type": "code",
   "execution_count": 532,
   "id": "4e25bfc0",
   "metadata": {},
   "outputs": [],
   "source": [
    "import pandas as pd\n",
    "import numpy as np\n",
    "import matplotlib.pyplot as plt\n",
    "\n",
    "# pd.set_option('display.max_columns', 85)\n",
    "# pd.set_option('display.max_rows', 85)\n",
    "pd.set_option('display.width', 200)"
   ]
  },
  {
   "cell_type": "markdown",
   "id": "7f1b7e3b",
   "metadata": {},
   "source": [
    "# load data"
   ]
  },
  {
   "cell_type": "code",
   "execution_count": 533,
   "id": "17baff0a",
   "metadata": {},
   "outputs": [
    {
     "data": {
      "application/vnd.microsoft.datawrangler.viewer.v0+json": {
       "columns": [
        {
         "name": "index",
         "rawType": "int64",
         "type": "integer"
        },
        {
         "name": "fLength",
         "rawType": "float64",
         "type": "float"
        },
        {
         "name": "fWidth",
         "rawType": "float64",
         "type": "float"
        },
        {
         "name": "fSize",
         "rawType": "float64",
         "type": "float"
        },
        {
         "name": "fConc",
         "rawType": "float64",
         "type": "float"
        },
        {
         "name": "fConc1",
         "rawType": "float64",
         "type": "float"
        },
        {
         "name": "fAsym",
         "rawType": "float64",
         "type": "float"
        },
        {
         "name": "fM3Long",
         "rawType": "float64",
         "type": "float"
        },
        {
         "name": "fM3Trans",
         "rawType": "float64",
         "type": "float"
        },
        {
         "name": "fAlpha",
         "rawType": "float64",
         "type": "float"
        },
        {
         "name": "fDist",
         "rawType": "float64",
         "type": "float"
        },
        {
         "name": "class",
         "rawType": "object",
         "type": "string"
        }
       ],
       "ref": "c4d9c874-4e7a-4b38-bbb6-d29c273b18de",
       "rows": [
        [
         "0",
         "28.7967",
         "16.0021",
         "2.6449",
         "0.3918",
         "0.1982",
         "27.7004",
         "22.011",
         "-8.2027",
         "40.092",
         "81.8828",
         "g"
        ],
        [
         "1",
         "31.6036",
         "11.7235",
         "2.5185",
         "0.5303",
         "0.3773",
         "26.2722",
         "23.8238",
         "-9.9574",
         "6.3609",
         "205.261",
         "g"
        ]
       ],
       "shape": {
        "columns": 11,
        "rows": 2
       }
      },
      "text/html": [
       "<div>\n",
       "<style scoped>\n",
       "    .dataframe tbody tr th:only-of-type {\n",
       "        vertical-align: middle;\n",
       "    }\n",
       "\n",
       "    .dataframe tbody tr th {\n",
       "        vertical-align: top;\n",
       "    }\n",
       "\n",
       "    .dataframe thead th {\n",
       "        text-align: right;\n",
       "    }\n",
       "</style>\n",
       "<table border=\"1\" class=\"dataframe\">\n",
       "  <thead>\n",
       "    <tr style=\"text-align: right;\">\n",
       "      <th></th>\n",
       "      <th>fLength</th>\n",
       "      <th>fWidth</th>\n",
       "      <th>fSize</th>\n",
       "      <th>fConc</th>\n",
       "      <th>fConc1</th>\n",
       "      <th>fAsym</th>\n",
       "      <th>fM3Long</th>\n",
       "      <th>fM3Trans</th>\n",
       "      <th>fAlpha</th>\n",
       "      <th>fDist</th>\n",
       "      <th>class</th>\n",
       "    </tr>\n",
       "  </thead>\n",
       "  <tbody>\n",
       "    <tr>\n",
       "      <th>0</th>\n",
       "      <td>28.7967</td>\n",
       "      <td>16.0021</td>\n",
       "      <td>2.6449</td>\n",
       "      <td>0.3918</td>\n",
       "      <td>0.1982</td>\n",
       "      <td>27.7004</td>\n",
       "      <td>22.0110</td>\n",
       "      <td>-8.2027</td>\n",
       "      <td>40.0920</td>\n",
       "      <td>81.8828</td>\n",
       "      <td>g</td>\n",
       "    </tr>\n",
       "    <tr>\n",
       "      <th>1</th>\n",
       "      <td>31.6036</td>\n",
       "      <td>11.7235</td>\n",
       "      <td>2.5185</td>\n",
       "      <td>0.5303</td>\n",
       "      <td>0.3773</td>\n",
       "      <td>26.2722</td>\n",
       "      <td>23.8238</td>\n",
       "      <td>-9.9574</td>\n",
       "      <td>6.3609</td>\n",
       "      <td>205.2610</td>\n",
       "      <td>g</td>\n",
       "    </tr>\n",
       "  </tbody>\n",
       "</table>\n",
       "</div>"
      ],
      "text/plain": [
       "   fLength   fWidth   fSize   fConc  fConc1    fAsym  fM3Long  fM3Trans   fAlpha     fDist class\n",
       "0  28.7967  16.0021  2.6449  0.3918  0.1982  27.7004  22.0110   -8.2027  40.0920   81.8828     g\n",
       "1  31.6036  11.7235  2.5185  0.5303  0.3773  26.2722  23.8238   -9.9574   6.3609  205.2610     g"
      ]
     },
     "execution_count": 533,
     "metadata": {},
     "output_type": "execute_result"
    }
   ],
   "source": [
    "col_names = ['fLength', 'fWidth', 'fSize', 'fConc', 'fConc1', 'fAsym', 'fM3Long', 'fM3Trans', 'fAlpha', 'fDist', 'class']\n",
    "\n",
    "df = pd.read_csv('data/magic04.data', names=col_names)\n",
    "df.head(2)"
   ]
  },
  {
   "cell_type": "markdown",
   "id": "b193ab29",
   "metadata": {},
   "source": [
    "# prepare data"
   ]
  },
  {
   "cell_type": "markdown",
   "id": "6b3e8bf4",
   "metadata": {},
   "source": [
    "## convert class column values to int repr"
   ]
  },
  {
   "cell_type": "code",
   "execution_count": 534,
   "id": "8103ab4f",
   "metadata": {},
   "outputs": [],
   "source": [
    "dfcpy = df.copy()\n",
    "\n",
    "df['class'] = (df['class'] == 'g').astype(int)"
   ]
  },
  {
   "cell_type": "markdown",
   "id": "ae224da2",
   "metadata": {},
   "source": [
    "### unrelated, just trying out .pipe and .assign"
   ]
  },
  {
   "cell_type": "code",
   "execution_count": 535,
   "id": "91094481",
   "metadata": {},
   "outputs": [
    {
     "name": "stdout",
     "output_type": "stream",
     "text": [
      "name: 0 \n",
      "\n",
      "   fLength   fWidth   fSize   fConc  fConc1    fAsym  fM3Long  fM3Trans  fAlpha    fDist class\n",
      "0  28.7967  16.0021  2.6449  0.3918  0.1982  27.7004   22.011   -8.2027  40.092  81.8828     g \n",
      "\n",
      "name: 0 \n",
      "\n",
      "fLength     28.7967\n",
      "fWidth      16.0021\n",
      "fSize        2.6449\n",
      "fConc        0.3918\n",
      "fConc1       0.1982\n",
      "fAsym       27.7004\n",
      "fM3Long      22.011\n",
      "fM3Trans    -8.2027\n",
      "fAlpha       40.092\n",
      "fDist       81.8828\n",
      "class             g\n",
      "Name: 0, dtype: object\n"
     ]
    }
   ],
   "source": [
    "# just en experiment with .pipe and squeeze\n",
    "# \n",
    "assert (\n",
    "    dfcpy[:1]                                                           # get 1st row\n",
    "    .pipe(lambda _df: print('name:', _df.iloc[0].name, '\\n') or _df)    # print received 1st row as a series, return it\n",
    "    .pipe(lambda _df: print(_df[:1], '\\n') or _df)                      # print received 1st row as a series, return it\n",
    "    .squeeze()                                                          # remove one dimension df -> series\n",
    "    .pipe(lambda _df: print('name:', _df.name, '\\n') or _df)            # print received 1st row as a series, return it\n",
    "    .pipe(lambda _df: print(_df) or _df)                                # print the receviced series, return it\n",
    "    .name == dfcpy.iloc[0].name                                         # compare the name of the series with the index of the source row\n",
    ")"
   ]
  },
  {
   "cell_type": "code",
   "execution_count": 536,
   "id": "b50a2958",
   "metadata": {},
   "outputs": [
    {
     "name": "stdout",
     "output_type": "stream",
     "text": [
      "class\n",
      "g    12332\n",
      "h     6688\n",
      "Name: count, dtype: int64\n",
      "class\n",
      "1    12332\n",
      "0     6688\n",
      "Name: count, dtype: int64\n"
     ]
    }
   ],
   "source": [
    "# this is the same as:\n",
    "# df['class'] = (df['class] == 'g').astype(int)\n",
    "# but i wanted to try .pipe() and .assign()\n",
    "\n",
    "dfcpy = (\n",
    "    dfcpy\n",
    "    .pipe(lambda d:print(d['class'].value_counts()) or d)   # print value counts of class\n",
    "    .assign(**{\n",
    "        'class': (dfcpy['class']=='g').astype(int)          # use dict unpacking to avoid error on name 'class'\n",
    "    })\n",
    "    .pipe(lambda d:print(d['class'].value_counts()) or d)   # print value counts of class\n",
    ")\n"
   ]
  },
  {
   "cell_type": "code",
   "execution_count": 537,
   "id": "021a0114",
   "metadata": {},
   "outputs": [
    {
     "data": {
      "application/vnd.microsoft.datawrangler.viewer.v0+json": {
       "columns": [
        {
         "name": "class",
         "rawType": "int64",
         "type": "integer"
        },
        {
         "name": "count",
         "rawType": "int64",
         "type": "integer"
        }
       ],
       "ref": "b29e9ebb-2ad5-4eab-9411-c79fd5274ce9",
       "rows": [
        [
         "1",
         "12332"
        ],
        [
         "0",
         "6688"
        ]
       ],
       "shape": {
        "columns": 1,
        "rows": 2
       }
      },
      "text/plain": [
       "class\n",
       "1    12332\n",
       "0     6688\n",
       "Name: count, dtype: int64"
      ]
     },
     "metadata": {},
     "output_type": "display_data"
    },
    {
     "data": {
      "application/vnd.microsoft.datawrangler.viewer.v0+json": {
       "columns": [
        {
         "name": "class",
         "rawType": "int64",
         "type": "integer"
        },
        {
         "name": "count",
         "rawType": "int64",
         "type": "integer"
        }
       ],
       "ref": "fffb92ad-88d8-49dc-aead-c54855c75bb9",
       "rows": [
        [
         "1",
         "12332"
        ],
        [
         "0",
         "6688"
        ]
       ],
       "shape": {
        "columns": 1,
        "rows": 2
       }
      },
      "text/plain": [
       "class\n",
       "1    12332\n",
       "0     6688\n",
       "Name: count, dtype: int64"
      ]
     },
     "metadata": {},
     "output_type": "display_data"
    }
   ],
   "source": [
    "assert df.equals(dfcpy)             # check results match\n",
    "\n",
    "display(\n",
    "    df['class'].value_counts(),     # visual check result\n",
    "    dfcpy['class'].value_counts()   # visual check result\n",
    ")"
   ]
  },
  {
   "cell_type": "markdown",
   "id": "2e927a1f",
   "metadata": {},
   "source": [
    "# observe data graphically"
   ]
  },
  {
   "cell_type": "code",
   "execution_count": 538,
   "id": "2d706672",
   "metadata": {},
   "outputs": [
    {
     "name": "stdout",
     "output_type": "stream",
     "text": [
      "fLength\n"
     ]
    },
    {
     "data": {
      "image/png": "[encoded data removed]",
      "text/plain": [
       "<Figure size 640x480 with 1 Axes>"
      ]
     },
     "metadata": {},
     "output_type": "display_data"
    },
    {
     "name": "stdout",
     "output_type": "stream",
     "text": [
      "fWidth\n"
     ]
    },
    {
     "data": {
      "image/png": "[encoded data removed]",
      "text/plain": [
       "<Figure size 640x480 with 1 Axes>"
      ]
     },
     "metadata": {},
     "output_type": "display_data"
    },
    {
     "name": "stdout",
     "output_type": "stream",
     "text": [
      "fSize\n"
     ]
    },
    {
     "data": {
      "image/png": "[encoded data removed]",
      "text/plain": [
       "<Figure size 640x480 with 1 Axes>"
      ]
     },
     "metadata": {},
     "output_type": "display_data"
    },
    {
     "name": "stdout",
     "output_type": "stream",
     "text": [
      "fConc\n"
     ]
    },
    {
     "data": {
      "image/png": "[encoded data removed]",
      "text/plain": [
       "<Figure size 640x480 with 1 Axes>"
      ]
     },
     "metadata": {},
     "output_type": "display_data"
    },
    {
     "name": "stdout",
     "output_type": "stream",
     "text": [
      "fConc1\n"
     ]
    },
    {
     "data": {
      "image/png": "[encoded data removed]",
      "text/plain": [
       "<Figure size 640x480 with 1 Axes>"
      ]
     },
     "metadata": {},
     "output_type": "display_data"
    },
    {
     "name": "stdout",
     "output_type": "stream",
     "text": [
      "fAsym\n"
     ]
    },
    {
     "data": {
      "image/png": "[encoded data removed]",
      "text/plain": [
       "<Figure size 640x480 with 1 Axes>"
      ]
     },
     "metadata": {},
     "output_type": "display_data"
    },
    {
     "name": "stdout",
     "output_type": "stream",
     "text": [
      "fM3Long\n"
     ]
    },
    {
     "data": {
      "image/png": "[encoded data removed]",
      "text/plain": [
       "<Figure size 640x480 with 1 Axes>"
      ]
     },
     "metadata": {},
     "output_type": "display_data"
    },
    {
     "name": "stdout",
     "output_type": "stream",
     "text": [
      "fM3Trans\n"
     ]
    },
    {
     "data": {
      "image/png": "[encoded data removed]",
      "text/plain": [
       "<Figure size 640x480 with 1 Axes>"
      ]
     },
     "metadata": {},
     "output_type": "display_data"
    },
    {
     "name": "stdout",
     "output_type": "stream",
     "text": [
      "fAlpha\n"
     ]
    },
    {
     "data": {
      "image/png": "[encoded data removed]",
      "text/plain": [
       "<Figure size 640x480 with 1 Axes>"
      ]
     },
     "metadata": {},
     "output_type": "display_data"
    },
    {
     "name": "stdout",
     "output_type": "stream",
     "text": [
      "fDist\n"
     ]
    },
    {
     "data": {
      "image/png": "[encoded data removed]",
      "text/plain": [
       "<Figure size 640x480 with 1 Axes>"
      ]
     },
     "metadata": {},
     "output_type": "display_data"
    }
   ],
   "source": [
    "for label in col_names[:-1]:\n",
    "    print(label)\n",
    "    plt.hist(df[df['class'] == 1][label], color='blue', label='gamma', alpha=0.7, density=True)\n",
    "    plt.hist(df[df['class'] == 0][label], color='red', label='hadron', alpha=0.7, density=True)\n",
    "    plt.title(label)\n",
    "    plt.ylabel('probability')\n",
    "    plt.xlabel(label)\n",
    "    plt.legend()\n",
    "    plt.show()"
   ]
  },
  {
   "cell_type": "markdown",
   "id": "9667ef95",
   "metadata": {},
   "source": [
    "# Train, validation, test datasets"
   ]
  },
  {
   "cell_type": "code",
   "execution_count": 539,
   "id": "9b23180b",
   "metadata": {},
   "outputs": [
    {
     "name": "stdout",
     "output_type": "stream",
     "text": [
      "(19020, 11)\n",
      "(1, 11)\n",
      "(19020, 11)\n"
     ]
    }
   ],
   "source": [
    "# chek the shape difference between df, df.shape and df.shape(frac=1)\n",
    "(\n",
    "    df\n",
    "    .pipe(lambda x:print(x.shape) or x)\n",
    "    .pipe(lambda x:print(x.sample().shape) or x)\n",
    "    .pipe(lambda x:print(x.sample(frac=1).shape))\n",
    ")"
   ]
  },
  {
   "cell_type": "code",
   "execution_count": 540,
   "id": "405c9d7c",
   "metadata": {},
   "outputs": [
    {
     "name": "stdout",
     "output_type": "stream",
     "text": [
      "(11412, 11)\n",
      "(3804, 11)\n",
      "(3804, 11)\n"
     ]
    },
    {
     "name": "stderr",
     "output_type": "stream",
     "text": [
      "/Users/nigga/code/python/machine-leaarning/freecodecamp.org/ml-for-everybody/.venv/lib/python3.12/site-packages/numpy/_core/fromnumeric.py:57: FutureWarning: 'DataFrame.swapaxes' is deprecated and will be removed in a future version. Please use 'DataFrame.transpose' instead.\n",
      "  return bound(*args, **kwds)\n"
     ]
    }
   ],
   "source": [
    "dftrain, dfvalid, dftest = np.split(\n",
    "    df.sample(frac=1),          # shuffle df: sample returns a random row, frac(tion) tells the fraction of rows to return\n",
    "    [\n",
    "        int(0.6*len(df)),       # first cut point   : 60%\n",
    "        int(0.8*len(df)),       # second cut point  : 60-80%\n",
    "                                # rest of the rows  : 80-100%\n",
    "    ]\n",
    ")\n",
    "\n",
    "# print shapes of the datasets\n",
    "for dataset in (dftrain, dfvalid, dftest):\n",
    "    print(dataset.shape)\n",
    "\n",
    "# check we didnt miss any row\n",
    "assert df.shape[0] == sum(dataset.shape[0] for dataset in [dftrain, dfvalid, dftest])\n"
   ]
  },
  {
   "cell_type": "markdown",
   "id": "48fca8e1",
   "metadata": {},
   "source": [
    "# scale and oversample"
   ]
  },
  {
   "cell_type": "markdown",
   "id": "4b2c9b32",
   "metadata": {},
   "source": [
    "## imports"
   ]
  },
  {
   "cell_type": "code",
   "execution_count": 541,
   "id": "1fd61317",
   "metadata": {},
   "outputs": [],
   "source": [
    "from sklearn.preprocessing import StandardScaler\n",
    "from imblearn.over_sampling import RandomOverSampler"
   ]
  },
  {
   "cell_type": "markdown",
   "id": "c271d08c",
   "metadata": {},
   "source": [
    "## observe the scale ratio of values across the df"
   ]
  },
  {
   "cell_type": "code",
   "execution_count": 542,
   "id": "3eddf8fa",
   "metadata": {},
   "outputs": [
    {
     "data": {
      "application/vnd.microsoft.datawrangler.viewer.v0+json": {
       "columns": [
        {
         "name": "index",
         "rawType": "object",
         "type": "string"
        },
        {
         "name": "fLength",
         "rawType": "float64",
         "type": "float"
        },
        {
         "name": "fWidth",
         "rawType": "float64",
         "type": "float"
        },
        {
         "name": "fSize",
         "rawType": "float64",
         "type": "float"
        },
        {
         "name": "fConc",
         "rawType": "float64",
         "type": "float"
        },
        {
         "name": "fConc1",
         "rawType": "float64",
         "type": "float"
        },
        {
         "name": "fAsym",
         "rawType": "float64",
         "type": "float"
        },
        {
         "name": "fM3Long",
         "rawType": "float64",
         "type": "float"
        },
        {
         "name": "fM3Trans",
         "rawType": "float64",
         "type": "float"
        },
        {
         "name": "fAlpha",
         "rawType": "float64",
         "type": "float"
        },
        {
         "name": "fDist",
         "rawType": "float64",
         "type": "float"
        },
        {
         "name": "class",
         "rawType": "float64",
         "type": "float"
        }
       ],
       "ref": "864b92aa-1641-4da5-bbe0-b903ba5d04b2",
       "rows": [
        [
         "std",
         "42.364854942802815",
         "18.346056295681592",
         "0.4725986486893078",
         "0.18281314722123718",
         "0.11051079890195785",
         "59.20606198471529",
         "51.00011801388582",
         "20.827438947228178",
         "26.103620510358294",
         "74.73178696313757",
         "0.47749166466854986"
        ],
        [
         "min",
         "4.2835",
         "0.0",
         "1.9413",
         "0.0131",
         "0.0003",
         "-457.9161",
         "-331.78",
         "-205.8947",
         "0.0",
         "1.2826",
         "0.0"
        ],
        [
         "max",
         "334.177",
         "256.382",
         "5.3233",
         "0.893",
         "0.6752",
         "575.2407",
         "238.321",
         "179.851",
         "90.0",
         "495.561",
         "1.0"
        ]
       ],
       "shape": {
        "columns": 11,
        "rows": 3
       }
      },
      "text/html": [
       "<div>\n",
       "<style scoped>\n",
       "    .dataframe tbody tr th:only-of-type {\n",
       "        vertical-align: middle;\n",
       "    }\n",
       "\n",
       "    .dataframe tbody tr th {\n",
       "        vertical-align: top;\n",
       "    }\n",
       "\n",
       "    .dataframe thead th {\n",
       "        text-align: right;\n",
       "    }\n",
       "</style>\n",
       "<table border=\"1\" class=\"dataframe\">\n",
       "  <thead>\n",
       "    <tr style=\"text-align: right;\">\n",
       "      <th></th>\n",
       "      <th>fLength</th>\n",
       "      <th>fWidth</th>\n",
       "      <th>fSize</th>\n",
       "      <th>fConc</th>\n",
       "      <th>fConc1</th>\n",
       "      <th>fAsym</th>\n",
       "      <th>fM3Long</th>\n",
       "      <th>fM3Trans</th>\n",
       "      <th>fAlpha</th>\n",
       "      <th>fDist</th>\n",
       "      <th>class</th>\n",
       "    </tr>\n",
       "  </thead>\n",
       "  <tbody>\n",
       "    <tr>\n",
       "      <th>std</th>\n",
       "      <td>42.364855</td>\n",
       "      <td>18.346056</td>\n",
       "      <td>0.472599</td>\n",
       "      <td>0.182813</td>\n",
       "      <td>0.110511</td>\n",
       "      <td>59.206062</td>\n",
       "      <td>51.000118</td>\n",
       "      <td>20.827439</td>\n",
       "      <td>26.103621</td>\n",
       "      <td>74.731787</td>\n",
       "      <td>0.477492</td>\n",
       "    </tr>\n",
       "    <tr>\n",
       "      <th>min</th>\n",
       "      <td>4.283500</td>\n",
       "      <td>0.000000</td>\n",
       "      <td>1.941300</td>\n",
       "      <td>0.013100</td>\n",
       "      <td>0.000300</td>\n",
       "      <td>-457.916100</td>\n",
       "      <td>-331.780000</td>\n",
       "      <td>-205.894700</td>\n",
       "      <td>0.000000</td>\n",
       "      <td>1.282600</td>\n",
       "      <td>0.000000</td>\n",
       "    </tr>\n",
       "    <tr>\n",
       "      <th>max</th>\n",
       "      <td>334.177000</td>\n",
       "      <td>256.382000</td>\n",
       "      <td>5.323300</td>\n",
       "      <td>0.893000</td>\n",
       "      <td>0.675200</td>\n",
       "      <td>575.240700</td>\n",
       "      <td>238.321000</td>\n",
       "      <td>179.851000</td>\n",
       "      <td>90.000000</td>\n",
       "      <td>495.561000</td>\n",
       "      <td>1.000000</td>\n",
       "    </tr>\n",
       "  </tbody>\n",
       "</table>\n",
       "</div>"
      ],
      "text/plain": [
       "        fLength      fWidth     fSize     fConc    fConc1       fAsym     fM3Long    fM3Trans     fAlpha       fDist     class\n",
       "std   42.364855   18.346056  0.472599  0.182813  0.110511   59.206062   51.000118   20.827439  26.103621   74.731787  0.477492\n",
       "min    4.283500    0.000000  1.941300  0.013100  0.000300 -457.916100 -331.780000 -205.894700   0.000000    1.282600  0.000000\n",
       "max  334.177000  256.382000  5.323300  0.893000  0.675200  575.240700  238.321000  179.851000  90.000000  495.561000  1.000000"
      ]
     },
     "execution_count": 542,
     "metadata": {},
     "output_type": "execute_result"
    }
   ],
   "source": [
    "df.describe().loc[['std', 'min', 'max']]"
   ]
  },
  {
   "cell_type": "markdown",
   "id": "b4ac3192",
   "metadata": {},
   "source": [
    "## fix the data scale ratio"
   ]
  },
  {
   "cell_type": "code",
   "execution_count": 543,
   "id": "563ba4a0",
   "metadata": {},
   "outputs": [],
   "source": [
    "def scale_dataset(df:pd.DataFrame, data_columns:list[str], label_column:str, oversample:bool=False) -> tuple:\n",
    "    \n",
    "    X = df[data_columns].values     # get a 2D array of all feature comlumns\n",
    "    y = df[label_column].values     # get a 1D array of the label column\n",
    "    \n",
    "    # print(X[:3])\n",
    "    scaler = StandardScaler()\n",
    "    \n",
    "    X = scaler.fit_transform(X)     # fix scale ratio of the values\n",
    "    \n",
    "    if oversample:\n",
    "        ros = RandomOverSampler()\n",
    "        X, y = ros.fit_resample(    # creates copies from random rows that have inferior label value total\n",
    "            X,                      # data to be resampled\n",
    "            y                       # labels\n",
    "        )\n",
    "    \n",
    "    data = np.hstack((              # reassemble the 2D matrix\n",
    "        X,                          # 2D feature matrix\n",
    "        np.reshape(                 # we need a 2D array to stack\n",
    "            y,                      # 1D array\n",
    "            (\n",
    "                -1,                 # rows: same as len(y)\n",
    "                1                   # columns\n",
    "            )\n",
    "        )\n",
    "    ))\n",
    "    \n",
    "    return data, X, y"
   ]
  },
  {
   "cell_type": "code",
   "execution_count": 544,
   "id": "baee4c8c",
   "metadata": {},
   "outputs": [
    {
     "name": "stdout",
     "output_type": "stream",
     "text": [
      "[[-0.32139925 -0.16622895  0.42170896 -0.6136879  -0.62594102  0.37654249\n",
      "  -0.50870555  0.29617291 -0.72160676  0.28960884  1.        ]] \n",
      "\n",
      " [[-0.32139925 -0.16622895  0.42170896 -0.6136879  -0.62594102  0.37654249\n",
      "  -0.50870555  0.29617291 -0.72160676  0.28960884]] \n",
      "\n",
      " [1 1 1 0 1 1 1 1 1 0]\n"
     ]
    }
   ],
   "source": [
    "train, X_train, y_train = scale_dataset(dftrain, dftrain.columns[:-1], dftrain.columns[-1])\n",
    "print(train[:1], '\\n\\n', X_train[:1], '\\n\\n', y_train[:10])"
   ]
  },
  {
   "cell_type": "markdown",
   "id": "9607e72e",
   "metadata": {},
   "source": [
    "## observe the ratio between the number of gammas and hadrons"
   ]
  },
  {
   "cell_type": "code",
   "execution_count": 545,
   "id": "0e610ad3",
   "metadata": {},
   "outputs": [
    {
     "name": "stdout",
     "output_type": "stream",
     "text": [
      "11412\n",
      "7348 7348 64.39%\n",
      "4064 4064 35.61%\n"
     ]
    }
   ],
   "source": [
    "# observe on np.array\n",
    "total_rows = len(train)\n",
    "# total_gammas = len(train[train['class']==1])\n",
    "total_gammas = len(train[train[:,-1]==1])\n",
    "total_gamma_labels = sum(y_train == 1)\n",
    "# total_hadrons = len(train[train['class']==0])\n",
    "total_hadrons = len(train[train[:,-1]==0])\n",
    "total_hadron_labels = sum(y_train == 0)\n",
    "gamma_ratio = total_gammas / total_rows\n",
    "hadron_ratio = total_hadrons / total_rows\n",
    "print(total_rows)\n",
    "print(total_gammas, total_gamma_labels, f'{gamma_ratio:.2%}')\n",
    "print(total_hadrons, total_hadron_labels, f'{hadron_ratio:.2%}')\n"
   ]
  },
  {
   "cell_type": "markdown",
   "id": "498dfb1f",
   "metadata": {},
   "source": [
    "## oversample the lesser subset to make them the same"
   ]
  },
  {
   "cell_type": "code",
   "execution_count": 546,
   "id": "6361f29b",
   "metadata": {},
   "outputs": [],
   "source": [
    "train, X_train, y_train = scale_dataset(dftrain, dftrain.columns[:-1], dftrain.columns[-1], oversample=True)\n"
   ]
  },
  {
   "cell_type": "markdown",
   "id": "85784520",
   "metadata": {},
   "source": [
    "## observe AGAIN the ratio between the number of gammas and hadrons"
   ]
  },
  {
   "cell_type": "code",
   "execution_count": 547,
   "id": "644f562f",
   "metadata": {},
   "outputs": [
    {
     "name": "stdout",
     "output_type": "stream",
     "text": [
      "14696\n",
      "7348 7348 50.00%\n",
      "7348 7348 50.00%\n"
     ]
    }
   ],
   "source": [
    "# observe on np.array\n",
    "total_rows = len(train)\n",
    "# total_gammas = len(train[train['class']==1])\n",
    "total_gammas = len(train[train[:,-1]==1])\n",
    "total_gamma_labels = sum(y_train == 1)\n",
    "# total_hadrons = len(train[train['class']==0])\n",
    "total_hadrons = len(train[train[:,-1]==0])\n",
    "total_hadron_labels = sum(y_train == 0)\n",
    "gamma_ratio = total_gammas / total_rows\n",
    "hadron_ratio = total_hadrons / total_rows\n",
    "print(total_rows)\n",
    "print(total_gammas, total_gamma_labels, f'{gamma_ratio:.2%}')\n",
    "print(total_hadrons, total_hadron_labels, f'{hadron_ratio:.2%}')\n"
   ]
  },
  {
   "cell_type": "markdown",
   "id": "2911dc22",
   "metadata": {},
   "source": [
    "# create the actual datasets"
   ]
  },
  {
   "cell_type": "code",
   "execution_count": 548,
   "id": "e8ce1346",
   "metadata": {},
   "outputs": [],
   "source": [
    "train, X_train, y_train = scale_dataset(dftrain, dftrain.columns[:-1], dftrain.columns[-1], oversample=True)\n",
    "valid, X_valid, y_valid = scale_dataset(dfvalid, dfvalid.columns[:-1], dfvalid.columns[-1], oversample=False)   # no oversamplling\n",
    "test, X_test, y_test = scale_dataset(dftest, dftest.columns[:-1], dftest.columns[-1], oversample=False)         # no oversampling\n"
   ]
  },
  {
   "cell_type": "markdown",
   "id": "2830d6b0",
   "metadata": {},
   "source": [
    "# kNN (k-nearest neighbours)"
   ]
  },
  {
   "cell_type": "code",
   "execution_count": 549,
   "id": "7d197586",
   "metadata": {},
   "outputs": [],
   "source": [
    "from sklearn.neighbors import KNeighborsClassifier\n",
    "from sklearn.metrics import classification_report"
   ]
  },
  {
   "cell_type": "code",
   "execution_count": 550,
   "id": "1b497088",
   "metadata": {},
   "outputs": [],
   "source": [
    "knn_model = KNeighborsClassifier(n_neighbors=5)\n",
    "knn_model = knn_model.fit(X_train, y_train)\n",
    "y_pred = knn_model.predict(X_test)"
   ]
  },
  {
   "cell_type": "code",
   "execution_count": 551,
   "id": "0c981b42",
   "metadata": {},
   "outputs": [
    {
     "name": "stdout",
     "output_type": "stream",
     "text": [
      "[1 0 1 ... 0 1 1]\n",
      "[1 0 1 ... 0 1 0]\n"
     ]
    }
   ],
   "source": [
    "print(y_pred)\n",
    "print(y_test)"
   ]
  },
  {
   "cell_type": "code",
   "execution_count": 552,
   "id": "ca148c0e",
   "metadata": {},
   "outputs": [
    {
     "name": "stdout",
     "output_type": "stream",
     "text": [
      "              precision    recall  f1-score   support\n",
      "\n",
      "           0       0.73      0.74      0.73      1297\n",
      "           1       0.86      0.86      0.86      2507\n",
      "\n",
      "    accuracy                           0.82      3804\n",
      "   macro avg       0.80      0.80      0.80      3804\n",
      "weighted avg       0.82      0.82      0.82      3804\n",
      "\n"
     ]
    }
   ],
   "source": [
    "print(classification_report(y_test, y_pred))"
   ]
  },
  {
   "cell_type": "markdown",
   "id": "499865d7",
   "metadata": {},
   "source": [
    "# Naive Bayes"
   ]
  },
  {
   "cell_type": "code",
   "execution_count": 553,
   "id": "82d5dc76",
   "metadata": {},
   "outputs": [],
   "source": [
    "from sklearn.naive_bayes import GaussianNB"
   ]
  },
  {
   "cell_type": "code",
   "execution_count": 554,
   "id": "73e6685e",
   "metadata": {},
   "outputs": [],
   "source": [
    "nb_model = GaussianNB()\n",
    "nb_model = nb_model.fit(X_train, y_train)"
   ]
  },
  {
   "cell_type": "code",
   "execution_count": 555,
   "id": "1a61293d",
   "metadata": {},
   "outputs": [
    {
     "name": "stdout",
     "output_type": "stream",
     "text": [
      "              precision    recall  f1-score   support\n",
      "\n",
      "           0       0.66      0.40      0.50      1297\n",
      "           1       0.74      0.89      0.81      2507\n",
      "\n",
      "    accuracy                           0.72      3804\n",
      "   macro avg       0.70      0.65      0.65      3804\n",
      "weighted avg       0.71      0.72      0.70      3804\n",
      "\n"
     ]
    }
   ],
   "source": [
    "y_pred = nb_model.predict(X_test)\n",
    "print(classification_report(y_test, y_pred))"
   ]
  },
  {
   "cell_type": "markdown",
   "id": "0c3cfd51",
   "metadata": {},
   "source": [
    "# Log Regression"
   ]
  },
  {
   "cell_type": "code",
   "execution_count": 556,
   "id": "0d79cf7f",
   "metadata": {},
   "outputs": [],
   "source": [
    "from sklearn.linear_model import LogisticRegression"
   ]
  },
  {
   "cell_type": "code",
   "execution_count": 557,
   "id": "5d3907d7",
   "metadata": {},
   "outputs": [],
   "source": [
    "log_model = LogisticRegression()\n",
    "log_model = log_model.fit(X_train, y_train)"
   ]
  },
  {
   "cell_type": "code",
   "execution_count": 558,
   "id": "3a21d821",
   "metadata": {},
   "outputs": [
    {
     "name": "stdout",
     "output_type": "stream",
     "text": [
      "              precision    recall  f1-score   support\n",
      "\n",
      "           0       0.67      0.72      0.69      1297\n",
      "           1       0.85      0.82      0.83      2507\n",
      "\n",
      "    accuracy                           0.78      3804\n",
      "   macro avg       0.76      0.77      0.76      3804\n",
      "weighted avg       0.79      0.78      0.79      3804\n",
      "\n"
     ]
    }
   ],
   "source": [
    "y_pred = log_model.predict(X_test)\n",
    "print(classification_report(y_test, y_pred))\n"
   ]
  },
  {
   "cell_type": "markdown",
   "id": "56e6a12e",
   "metadata": {},
   "source": [
    "# Support Vector Machines"
   ]
  },
  {
   "cell_type": "code",
   "execution_count": 559,
   "id": "542a559a",
   "metadata": {},
   "outputs": [],
   "source": [
    "from sklearn.svm import SVC"
   ]
  },
  {
   "cell_type": "code",
   "execution_count": 562,
   "id": "9eeb4e80",
   "metadata": {},
   "outputs": [
    {
     "name": "stdout",
     "output_type": "stream",
     "text": [
      "              precision    recall  f1-score   support\n",
      "\n",
      "           0       0.80      0.79      0.79      1297\n",
      "           1       0.89      0.90      0.89      2507\n",
      "\n",
      "    accuracy                           0.86      3804\n",
      "   macro avg       0.84      0.84      0.84      3804\n",
      "weighted avg       0.86      0.86      0.86      3804\n",
      "\n"
     ]
    }
   ],
   "source": [
    "svm_model = SVC().fit(X_train, y_train)\n",
    "y_pred = svm_model.predict(X_test)\n",
    "print(classification_report(y_test, y_pred))\n"
   ]
  }
 ],
 "metadata": {
  "kernelspec": {
   "display_name": "ml-for-everybody",
   "language": "python",
   "name": "python3"
  },
  "language_info": {
   "codemirror_mode": {
    "name": "ipython",
    "version": 3
   },
   "file_extension": ".py",
   "mimetype": "text/x-python",
   "name": "python",
   "nbconvert_exporter": "python",
   "pygments_lexer": "ipython3",
   "version": "3.12.4"
  }
 },
 "nbformat": 4,
 "nbformat_minor": 5
}
