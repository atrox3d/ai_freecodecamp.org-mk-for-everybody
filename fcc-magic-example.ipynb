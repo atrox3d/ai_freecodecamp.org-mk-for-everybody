{
 "cells": [
  {
   "cell_type": "code",
   "execution_count": 1,
   "id": "4e25bfc0",
   "metadata": {},
   "outputs": [],
   "source": [
    "import pandas as pd\n",
    "import numpy as np\n",
    "import matplotlib.pyplot as plt\n",
    "\n",
    "# pd.set_option('display.max_columns', 85)\n",
    "# pd.set_option('display.max_rows', 85)\n",
    "pd.set_option('display.width', 200)"
   ]
  },
  {
   "cell_type": "code",
   "execution_count": 2,
   "id": "17baff0a",
   "metadata": {},
   "outputs": [
    {
     "data": {
      "application/vnd.microsoft.datawrangler.viewer.v0+json": {
       "columns": [
        {
         "name": "index",
         "rawType": "int64",
         "type": "integer"
        },
        {
         "name": "fLength",
         "rawType": "float64",
         "type": "float"
        },
        {
         "name": "fWidth",
         "rawType": "float64",
         "type": "float"
        },
        {
         "name": "fSize",
         "rawType": "float64",
         "type": "float"
        },
        {
         "name": "fConc",
         "rawType": "float64",
         "type": "float"
        },
        {
         "name": "fConc1",
         "rawType": "float64",
         "type": "float"
        },
        {
         "name": "fAsym",
         "rawType": "float64",
         "type": "float"
        },
        {
         "name": "fM3Long",
         "rawType": "float64",
         "type": "float"
        },
        {
         "name": "fM3Trans",
         "rawType": "float64",
         "type": "float"
        },
        {
         "name": "fAlpha",
         "rawType": "float64",
         "type": "float"
        },
        {
         "name": "fDist",
         "rawType": "float64",
         "type": "float"
        },
        {
         "name": "class",
         "rawType": "object",
         "type": "string"
        }
       ],
       "ref": "c5511c6f-a8e1-410d-900a-487edc252e81",
       "rows": [
        [
         "0",
         "28.7967",
         "16.0021",
         "2.6449",
         "0.3918",
         "0.1982",
         "27.7004",
         "22.011",
         "-8.2027",
         "40.092",
         "81.8828",
         "g"
        ],
        [
         "1",
         "31.6036",
         "11.7235",
         "2.5185",
         "0.5303",
         "0.3773",
         "26.2722",
         "23.8238",
         "-9.9574",
         "6.3609",
         "205.261",
         "g"
        ]
       ],
       "shape": {
        "columns": 11,
        "rows": 2
       }
      },
      "text/html": [
       "<div>\n",
       "<style scoped>\n",
       "    .dataframe tbody tr th:only-of-type {\n",
       "        vertical-align: middle;\n",
       "    }\n",
       "\n",
       "    .dataframe tbody tr th {\n",
       "        vertical-align: top;\n",
       "    }\n",
       "\n",
       "    .dataframe thead th {\n",
       "        text-align: right;\n",
       "    }\n",
       "</style>\n",
       "<table border=\"1\" class=\"dataframe\">\n",
       "  <thead>\n",
       "    <tr style=\"text-align: right;\">\n",
       "      <th></th>\n",
       "      <th>fLength</th>\n",
       "      <th>fWidth</th>\n",
       "      <th>fSize</th>\n",
       "      <th>fConc</th>\n",
       "      <th>fConc1</th>\n",
       "      <th>fAsym</th>\n",
       "      <th>fM3Long</th>\n",
       "      <th>fM3Trans</th>\n",
       "      <th>fAlpha</th>\n",
       "      <th>fDist</th>\n",
       "      <th>class</th>\n",
       "    </tr>\n",
       "  </thead>\n",
       "  <tbody>\n",
       "    <tr>\n",
       "      <th>0</th>\n",
       "      <td>28.7967</td>\n",
       "      <td>16.0021</td>\n",
       "      <td>2.6449</td>\n",
       "      <td>0.3918</td>\n",
       "      <td>0.1982</td>\n",
       "      <td>27.7004</td>\n",
       "      <td>22.0110</td>\n",
       "      <td>-8.2027</td>\n",
       "      <td>40.0920</td>\n",
       "      <td>81.8828</td>\n",
       "      <td>g</td>\n",
       "    </tr>\n",
       "    <tr>\n",
       "      <th>1</th>\n",
       "      <td>31.6036</td>\n",
       "      <td>11.7235</td>\n",
       "      <td>2.5185</td>\n",
       "      <td>0.5303</td>\n",
       "      <td>0.3773</td>\n",
       "      <td>26.2722</td>\n",
       "      <td>23.8238</td>\n",
       "      <td>-9.9574</td>\n",
       "      <td>6.3609</td>\n",
       "      <td>205.2610</td>\n",
       "      <td>g</td>\n",
       "    </tr>\n",
       "  </tbody>\n",
       "</table>\n",
       "</div>"
      ],
      "text/plain": [
       "   fLength   fWidth   fSize   fConc  fConc1    fAsym  fM3Long  fM3Trans   fAlpha     fDist class\n",
       "0  28.7967  16.0021  2.6449  0.3918  0.1982  27.7004  22.0110   -8.2027  40.0920   81.8828     g\n",
       "1  31.6036  11.7235  2.5185  0.5303  0.3773  26.2722  23.8238   -9.9574   6.3609  205.2610     g"
      ]
     },
     "execution_count": 2,
     "metadata": {},
     "output_type": "execute_result"
    }
   ],
   "source": [
    "col_names = ['fLength', 'fWidth', 'fSize', 'fConc', 'fConc1', 'fAsym', 'fM3Long', 'fM3Trans', 'fAlpha', 'fDist', 'class']\n",
    "\n",
    "df = pd.read_csv('magic04.data', names=col_names)\n",
    "df.head(2)"
   ]
  },
  {
   "cell_type": "code",
   "execution_count": 3,
   "id": "91094481",
   "metadata": {},
   "outputs": [
    {
     "name": "stdout",
     "output_type": "stream",
     "text": [
      "   fLength   fWidth   fSize   fConc  fConc1    fAsym  fM3Long  fM3Trans  fAlpha    fDist class\n",
      "0  28.7967  16.0021  2.6449  0.3918  0.1982  27.7004   22.011   -8.2027  40.092  81.8828     g \n",
      "\n",
      "fLength     28.7967\n",
      "fWidth      16.0021\n",
      "fSize        2.6449\n",
      "fConc        0.3918\n",
      "fConc1       0.1982\n",
      "fAsym       27.7004\n",
      "fM3Long      22.011\n",
      "fM3Trans    -8.2027\n",
      "fAlpha       40.092\n",
      "fDist       81.8828\n",
      "class             g\n",
      "Name: 0, dtype: object\n"
     ]
    }
   ],
   "source": [
    "assert (\n",
    "    df[:1]                                              # get 1st row\n",
    "    .pipe(lambda _df: print(_df[:1], '\\n') or _df)      # print 1st row as a series\n",
    "    .squeeze()                                          # remove one dimension df -> series\n",
    "    .pipe(lambda _df: print(_df) or _df)                # print the series\n",
    "    .name == df.iloc[0].name                            # compare the name of the series with the index of the source row\n",
    ")"
   ]
  }
 ],
 "metadata": {
  "kernelspec": {
   "display_name": "ml-for-everybody",
   "language": "python",
   "name": "python3"
  },
  "language_info": {
   "codemirror_mode": {
    "name": "ipython",
    "version": 3
   },
   "file_extension": ".py",
   "mimetype": "text/x-python",
   "name": "python",
   "nbconvert_exporter": "python",
   "pygments_lexer": "ipython3",
   "version": "3.12.4"
  }
 },
 "nbformat": 4,
 "nbformat_minor": 5
}
